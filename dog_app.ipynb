{
 "cells": [
  {
   "cell_type": "markdown",
   "metadata": {},
   "source": [
    "# Artificial Intelligence Nanodegree\n",
    "\n",
    "## Convolutional Neural Networks\n",
    "\n",
    "## Project: Write an Algorithm for a Dog Identification App \n",
    "\n",
    "---\n",
    "\n",
    "In this notebook, some template code has already been provided for you, and you will need to implement additional functionality to successfully complete this project. You will not need to modify the included code beyond what is requested. Sections that begin with **'(IMPLEMENTATION)'** in the header indicate that the following block of code will require additional functionality which you must provide. Instructions will be provided for each section, and the specifics of the implementation are marked in the code block with a 'TODO' statement. Please be sure to read the instructions carefully! \n",
    "\n",
    "> **Note**: Once you have completed all of the code implementations, you need to finalize your work by exporting the iPython Notebook as an HTML document. Before exporting the notebook to html, all of the code cells need to have been run so that reviewers can see the final implementation and output. You can then export the notebook by using the menu above and navigating to  \\n\",\n",
    "    \"**File -> Download as -> HTML (.html)**. Include the finished document along with this notebook as your submission.\n",
    "\n",
    "In addition to implementing code, there will be questions that you must answer which relate to the project and your implementation. Each section where you will answer a question is preceded by a **'Question X'** header. Carefully read each question and provide thorough answers in the following text boxes that begin with **'Answer:'**. Your project submission will be evaluated based on your answers to each of the questions and the implementation you provide.\n",
    "\n",
    ">**Note:** Code and Markdown cells can be executed using the **Shift + Enter** keyboard shortcut.  Markdown cells can be edited by double-clicking the cell to enter edit mode.\n",
    "\n",
    "The rubric contains _optional_ \"Stand Out Suggestions\" for enhancing the project beyond the minimum requirements. If you decide to pursue the \"Stand Out Suggestions\", you should include the code in this IPython notebook.\n",
    "\n",
    "\n",
    "\n",
    "---\n",
    "### Why We're Here \n",
    "\n",
    "In this notebook, you will make the first steps towards developing an algorithm that could be used as part of a mobile or web app.  At the end of this project, your code will accept any user-supplied image as input.  If a dog is detected in the image, it will provide an estimate of the dog's breed.  If a human is detected, it will provide an estimate of the dog breed that is most resembling.  The image below displays potential sample output of your finished project (... but we expect that each student's algorithm will behave differently!). \n",
    "\n",
    "![Sample Dog Output](images/sample_dog_output.png)\n",
    "\n",
    "In this real-world setting, you will need to piece together a series of models to perform different tasks; for instance, the algorithm that detects humans in an image will be different from the CNN that infers dog breed.  There are many points of possible failure, and no perfect algorithm exists.  Your imperfect solution will nonetheless create a fun user experience!\n",
    "\n",
    "### The Road Ahead\n",
    "\n",
    "We break the notebook into separate steps.  Feel free to use the links below to navigate the notebook.\n",
    "\n",
    "* [Step 0](#step0): Import Datasets\n",
    "* [Step 1](#step1): Detect Humans\n",
    "* [Step 2](#step2): Detect Dogs\n",
    "* [Step 3](#step3): Create a CNN to Classify Dog Breeds (from Scratch)\n",
    "* [Step 4](#step4): Use a CNN to Classify Dog Breeds (using Transfer Learning)\n",
    "* [Step 5](#step5): Create a CNN to Classify Dog Breeds (using Transfer Learning)\n",
    "* [Step 6](#step6): Write your Algorithm\n",
    "* [Step 7](#step7): Test Your Algorithm\n",
    "\n",
    "---\n",
    "<a id='step0'></a>\n",
    "## Step 0: Import Datasets\n",
    "\n",
    "### Import Dog Dataset\n",
    "\n",
    "In the code cell below, we import a dataset of dog images.  We populate a few variables through the use of the `load_files` function from the scikit-learn library:\n",
    "- `train_files`, `valid_files`, `test_files` - numpy arrays containing file paths to images\n",
    "- `train_targets`, `valid_targets`, `test_targets` - numpy arrays containing onehot-encoded classification labels \n",
    "- `dog_names` - list of string-valued dog breed names for translating labels"
   ]
  },
  {
   "cell_type": "code",
   "execution_count": 1,
   "metadata": {},
   "outputs": [
    {
     "name": "stderr",
     "output_type": "stream",
     "text": [
      "Using TensorFlow backend.\n"
     ]
    },
    {
     "name": "stdout",
     "output_type": "stream",
     "text": [
      "There are 133 total dog categories.\n",
      "There are 8351 total dog images.\n",
      "\n",
      "There are 6680 training dog images.\n",
      "There are 835 validation dog images.\n",
      "There are 836 test dog images.\n"
     ]
    }
   ],
   "source": [
    "from sklearn.datasets import load_files       \n",
    "from keras.utils import np_utils\n",
    "import numpy as np\n",
    "from glob import glob\n",
    "\n",
    "# define function to load train, test, and validation datasets\n",
    "def load_dataset(path):\n",
    "    data = load_files(path)\n",
    "    dog_files = np.array(data['filenames'])\n",
    "    dog_targets = np_utils.to_categorical(np.array(data['target']), 133)\n",
    "    return dog_files, dog_targets\n",
    "\n",
    "# load train, test, and validation datasets\n",
    "train_files, train_targets = load_dataset('dogImages/train')\n",
    "valid_files, valid_targets = load_dataset('dogImages/valid')\n",
    "test_files, test_targets = load_dataset('dogImages/test')\n",
    "\n",
    "# load list of dog names\n",
    "dog_names = [item[20:-1] for item in sorted(glob(\"dogImages/train/*/\"))]\n",
    "\n",
    "# print statistics about the dataset\n",
    "print('There are %d total dog categories.' % len(dog_names))\n",
    "print('There are %s total dog images.\\n' % len(np.hstack([train_files, valid_files, test_files])))\n",
    "print('There are %d training dog images.' % len(train_files))\n",
    "print('There are %d validation dog images.' % len(valid_files))\n",
    "print('There are %d test dog images.'% len(test_files))"
   ]
  },
  {
   "cell_type": "markdown",
   "metadata": {},
   "source": [
    "### Import Human Dataset\n",
    "\n",
    "In the code cell below, we import a dataset of human images, where the file paths are stored in the numpy array `human_files`."
   ]
  },
  {
   "cell_type": "code",
   "execution_count": 2,
   "metadata": {},
   "outputs": [
    {
     "name": "stdout",
     "output_type": "stream",
     "text": [
      "There are 13233 total human images.\n"
     ]
    }
   ],
   "source": [
    "import random\n",
    "random.seed(8675309)\n",
    "\n",
    "# load filenames in shuffled human dataset\n",
    "human_files = np.array(glob(\"lfw/*/*\"))\n",
    "random.shuffle(human_files)\n",
    "\n",
    "# print statistics about the dataset\n",
    "print('There are %d total human images.' % len(human_files))"
   ]
  },
  {
   "cell_type": "markdown",
   "metadata": {},
   "source": [
    "---\n",
    "<a id='step1'></a>\n",
    "## Step 1: Detect Humans\n",
    "\n",
    "We use OpenCV's implementation of [Haar feature-based cascade classifiers](http://docs.opencv.org/trunk/d7/d8b/tutorial_py_face_detection.html) to detect human faces in images.  OpenCV provides many pre-trained face detectors, stored as XML files on [github](https://github.com/opencv/opencv/tree/master/data/haarcascades).  We have downloaded one of these detectors and stored it in the `haarcascades` directory.\n",
    "\n",
    "In the next code cell, we demonstrate how to use this detector to find human faces in a sample image."
   ]
  },
  {
   "cell_type": "code",
   "execution_count": 3,
   "metadata": {},
   "outputs": [
    {
     "name": "stdout",
     "output_type": "stream",
     "text": [
      "Number of faces detected: 1\n"
     ]
    },
    {
     "data": {
      "image/png": "[encoded data removed]",
      "text/plain": [
       "<matplotlib.figure.Figure at 0x7fbdaff97f28>"
      ]
     },
     "metadata": {},
     "output_type": "display_data"
    }
   ],
   "source": [
    "import cv2                \n",
    "import matplotlib.pyplot as plt                        \n",
    "%matplotlib inline                               \n",
    "\n",
    "# extract pre-trained face detector\n",
    "face_cascade = cv2.CascadeClassifier('haarcascades/haarcascade_frontalface_alt.xml')\n",
    "\n",
    "# load color (BGR) image\n",
    "img = cv2.imread(human_files[3])\n",
    "# convert BGR image to grayscale\n",
    "gray = cv2.cvtColor(img, cv2.COLOR_BGR2GRAY)\n",
    "\n",
    "# find faces in image\n",
    "faces = face_cascade.detectMultiScale(gray)\n",
    "\n",
    "# print number of faces detected in the image\n",
    "print('Number of faces detected:', len(faces))\n",
    "\n",
    "# get bounding box for each detected face\n",
    "for (x,y,w,h) in faces:\n",
    "    # add bounding box to color image\n",
    "    cv2.rectangle(img,(x,y),(x+w,y+h),(255,0,0),2)\n",
    "    \n",
    "# convert BGR image to RGB for plotting\n",
    "cv_rgb = cv2.cvtColor(img, cv2.COLOR_BGR2RGB)\n",
    "\n",
    "# display the image, along with bounding box\n",
    "plt.imshow(cv_rgb)\n",
    "plt.show()"
   ]
  },
  {
   "cell_type": "code",
   "execution_count": 4,
   "metadata": {},
   "outputs": [
    {
     "name": "stdout",
     "output_type": "stream",
     "text": [
      "Faces  [[ 176  862 1569 1569]]\n"
     ]
    },
    {
     "data": {
      "image/png": "[encoded data removed]",
      "text/plain": [
       "<matplotlib.figure.Figure at 0x7fbd96b26198>"
      ]
     },
     "metadata": {},
     "output_type": "display_data"
    }
   ],
   "source": [
    "# this is just for fun\n",
    "my_img = cv2.imread(\"my_img.jpg\")\n",
    "gray = cv2.cvtColor(my_img, cv2.COLOR_BGR2GRAY)\n",
    "faces = face_cascade.detectMultiScale(gray)\n",
    "# get bounding box for each detected face\n",
    "print(\"Faces \", faces)\n",
    "for (x,y,w,h) in faces:\n",
    "    # add bounding box to color image\n",
    "    cv2.rectangle(my_img,(x,y),(x+w,y+h),(200,0,0),24)\n",
    "    \n",
    "# convert BGR image to RGB for plotting\n",
    "cv_rgb = cv2.cvtColor(my_img, cv2.COLOR_BGR2RGB)\n",
    "\n",
    "# display the image, along with bounding box\n",
    "plt.imshow(cv_rgb)\n",
    "plt.show()"
   ]
  },
  {
   "cell_type": "markdown",
   "metadata": {},
   "source": [
    "\n",
    "Before using any of the face detectors, it is standard procedure to convert the images to grayscale.  The `detectMultiScale` function executes the classifier stored in `face_cascade` and takes the grayscale image as a parameter.  \n",
    "\n",
    "In the above code, `faces` is a numpy array of detected faces, where each row corresponds to a detected face.  Each detected face is a 1D array with four entries that specifies the bounding box of the detected face.  The first two entries in the array (extracted in the above code as `x` and `y`) specify the horizontal and vertical positions of the top left corner of the bounding box.  The last two entries in the array (extracted here as `w` and `h`) specify the width and height of the box.\n",
    "\n",
    "### Write a Human Face Detector\n",
    "\n",
    "We can use this procedure to write a function that returns `True` if a human face is detected in an image and `False` otherwise.  This function, aptly named `face_detector`, takes a string-valued file path to an image as input and appears in the code block below."
   ]
  },
  {
   "cell_type": "code",
   "execution_count": 5,
   "metadata": {},
   "outputs": [],
   "source": [
    "# returns \"True\" if face is detected in image stored at img_path\n",
    "def face_detector(img_path):\n",
    "    img = cv2.imread(img_path)\n",
    "    gray = cv2.cvtColor(img, cv2.COLOR_BGR2GRAY)\n",
    "    faces = face_cascade.detectMultiScale(gray)\n",
    "    return len(faces) > 0"
   ]
  },
  {
   "cell_type": "markdown",
   "metadata": {},
   "source": [
    "### (IMPLEMENTATION) Assess the Human Face Detector\n",
    "\n",
    "__Question 1:__ Use the code cell below to test the performance of the `face_detector` function.  \n",
    "- What percentage of the first 100 images in `human_files` have a detected human face?  \n",
    "- What percentage of the first 100 images in `dog_files` have a detected human face? \n",
    "\n",
    "Ideally, we would like 100% of human images with a detected face and 0% of dog images with a detected face.  You will see that our algorithm falls short of this goal, but still gives acceptable performance.  We extract the file paths for the first 100 images from each of the datasets and store them in the numpy arrays `human_files_short` and `dog_files_short`.\n",
    "\n",
    "__Answer:__ "
   ]
  },
  {
   "cell_type": "code",
   "execution_count": 6,
   "metadata": {},
   "outputs": [],
   "source": [
    "human_files_short = human_files[:100]\n",
    "dog_files_short = train_files[:100]\n",
    "# Do NOT modify the code above this line.\n",
    "def percetageHumanDetect(files):\n",
    "    human_count = 0\n",
    "    total_count = len(files)\n",
    "    for file in files:\n",
    "        if face_detector(file):\n",
    "            human_count += 1\n",
    "    return human_count / total_count\n",
    "\n",
    "\n",
    "## TODO: Test the performance of the face_detector algorithm \n",
    "human_files_perf = percetageHumanDetect(human_files_short)\n",
    "dog_files_perf = percetageHumanDetect(dog_files_short)\n",
    "## on the images in human_files_short and dog_files_short."
   ]
  },
  {
   "cell_type": "code",
   "execution_count": 7,
   "metadata": {},
   "outputs": [
    {
     "name": "stdout",
     "output_type": "stream",
     "text": [
      "Human Files Performance:  98.0  %\n",
      "Dog Files Performance:  11.0  %\n"
     ]
    }
   ],
   "source": [
    "print(\"Human Files Performance: \", human_files_perf * 100, \" %\")\n",
    "print(\"Dog Files Performance: \", dog_files_perf * 100, \" %\")"
   ]
  },
  {
   "cell_type": "markdown",
   "metadata": {},
   "source": [
    "__Question 2:__ This algorithmic choice necessitates that we communicate to the user that we accept human images only when they provide a clear view of a face (otherwise, we risk having unneccessarily frustrated users!). In your opinion, is this a reasonable expectation to pose on the user? If not, can you think of a way to detect humans in images that does not necessitate an image with a clearly presented face?\n",
    "\n",
    "__Answer:__\n",
    "\n",
    "We suggest the face detector from OpenCV as a potential way to detect human images in your algorithm, but you are free to explore other approaches, especially approaches that make use of deep learning :).  Please use the code cell below to design and test your own face detection algorithm.  If you decide to pursue this _optional_ task, report performance on each of the datasets."
   ]
  },
  {
   "cell_type": "code",
   "execution_count": 8,
   "metadata": {},
   "outputs": [],
   "source": [
    "## (Optional) TODO: Report the performance of another  \n",
    "## face detection algorithm on the LFW dataset\n",
    "### Feel free to use as many code cells as needed."
   ]
  },
  {
   "cell_type": "markdown",
   "metadata": {},
   "source": [
    "---\n",
    "<a id='step2'></a>\n",
    "## Step 2: Detect Dogs\n",
    "\n",
    "In this section, we use a pre-trained [ResNet-50](http://ethereon.github.io/netscope/#/gist/db945b393d40bfa26006) model to detect dogs in images.  Our first line of code downloads the ResNet-50 model, along with weights that have been trained on [ImageNet](http://www.image-net.org/), a very large, very popular dataset used for image classification and other vision tasks.  ImageNet contains over 10 million URLs, each linking to an image containing an object from one of [1000 categories](https://gist.github.com/yrevar/942d3a0ac09ec9e5eb3a).  Given an image, this pre-trained ResNet-50 model returns a prediction (derived from the available categories in ImageNet) for the object that is contained in the image."
   ]
  },
  {
   "cell_type": "code",
   "execution_count": 9,
   "metadata": {},
   "outputs": [
    {
     "name": "stdout",
     "output_type": "stream",
     "text": [
      "Downloading data from https://github.com/fchollet/deep-learning-models/releases/download/v0.2/resnet50_weights_tf_dim_ordering_tf_kernels.h5\n",
      "101941248/102853048 [============================>.] - ETA: 0s"
     ]
    }
   ],
   "source": [
    "from keras.applications.resnet50 import ResNet50\n",
    "\n",
    "# define ResNet50 model\n",
    "ResNet50_model = ResNet50(weights='imagenet')"
   ]
  },
  {
   "cell_type": "markdown",
   "metadata": {},
   "source": [
    "### Pre-process the Data\n",
    "\n",
    "When using TensorFlow as backend, Keras CNNs require a 4D array (which we'll also refer to as a 4D tensor) as input, with shape\n",
    "\n",
    "$$\n",
    "(\\text{nb_samples}, \\text{rows}, \\text{columns}, \\text{channels}),\n",
    "$$\n",
    "\n",
    "where `nb_samples` corresponds to the total number of images (or samples), and `rows`, `columns`, and `channels` correspond to the number of rows, columns, and channels for each image, respectively.  \n",
    "\n",
    "The `path_to_tensor` function below takes a string-valued file path to a color image as input and returns a 4D tensor suitable for supplying to a Keras CNN.  The function first loads the image and resizes it to a square image that is $224 \\times 224$ pixels.  Next, the image is converted to an array, which is then resized to a 4D tensor.  In this case, since we are working with color images, each image has three channels.  Likewise, since we are processing a single image (or sample), the returned tensor will always have shape\n",
    "\n",
    "$$\n",
    "(1, 224, 224, 3).\n",
    "$$\n",
    "\n",
    "The `paths_to_tensor` function takes a numpy array of string-valued image paths as input and returns a 4D tensor with shape \n",
    "\n",
    "$$\n",
    "(\\text{nb_samples}, 224, 224, 3).\n",
    "$$\n",
    "\n",
    "Here, `nb_samples` is the number of samples, or number of images, in the supplied array of image paths.  It is best to think of `nb_samples` as the number of 3D tensors (where each 3D tensor corresponds to a different image) in your dataset!"
   ]
  },
  {
   "cell_type": "code",
   "execution_count": 10,
   "metadata": {},
   "outputs": [],
   "source": [
    "from keras.preprocessing import image                  \n",
    "from tqdm import tqdm\n",
    "\n",
    "def path_to_tensor(img_path):\n",
    "    # loads RGB image as PIL.Image.Image type\n",
    "    img = image.load_img(img_path, target_size=(224, 224))\n",
    "    # convert PIL.Image.Image type to 3D tensor with shape (224, 224, 3)\n",
    "    x = image.img_to_array(img)\n",
    "    # convert 3D tensor to 4D tensor with shape (1, 224, 224, 3) and return 4D tensor\n",
    "    return np.expand_dims(x, axis=0)\n",
    "\n",
    "def paths_to_tensor(img_paths):\n",
    "    list_of_tensors = [path_to_tensor(img_path) for img_path in tqdm(img_paths)]\n",
    "    return np.vstack(list_of_tensors)"
   ]
  },
  {
   "cell_type": "markdown",
   "metadata": {},
   "source": [
    "### Making Predictions with ResNet-50\n",
    "\n",
    "Getting the 4D tensor ready for ResNet-50, and for any other pre-trained model in Keras, requires some additional processing.  First, the RGB image is converted to BGR by reordering the channels.  All pre-trained models have the additional normalization step that the mean pixel (expressed in RGB as $[103.939, 116.779, 123.68]$ and calculated from all pixels in all images in ImageNet) must be subtracted from every pixel in each image.  This is implemented in the imported function `preprocess_input`.  If you're curious, you can check the code for `preprocess_input` [here](https://github.com/fchollet/keras/blob/master/keras/applications/imagenet_utils.py).\n",
    "\n",
    "Now that we have a way to format our image for supplying to ResNet-50, we are now ready to use the model to extract the predictions.  This is accomplished with the `predict` method, which returns an array whose $i$-th entry is the model's predicted probability that the image belongs to the $i$-th ImageNet category.  This is implemented in the `ResNet50_predict_labels` function below.\n",
    "\n",
    "By taking the argmax of the predicted probability vector, we obtain an integer corresponding to the model's predicted object class, which we can identify with an object category through the use of this [dictionary](https://gist.github.com/yrevar/942d3a0ac09ec9e5eb3a). "
   ]
  },
  {
   "cell_type": "code",
   "execution_count": 11,
   "metadata": {},
   "outputs": [],
   "source": [
    "from keras.applications.resnet50 import preprocess_input, decode_predictions\n",
    "\n",
    "def ResNet50_predict_labels(img_path):\n",
    "    # returns prediction vector for image located at img_path\n",
    "    img = preprocess_input(path_to_tensor(img_path))\n",
    "    return np.argmax(ResNet50_model.predict(img))"
   ]
  },
  {
   "cell_type": "markdown",
   "metadata": {},
   "source": [
    "### Write a Dog Detector\n",
    "\n",
    "While looking at the [dictionary](https://gist.github.com/yrevar/942d3a0ac09ec9e5eb3a), you will notice that the categories corresponding to dogs appear in an uninterrupted sequence and correspond to dictionary keys 151-268, inclusive, to include all categories from `'Chihuahua'` to `'Mexican hairless'`.  Thus, in order to check to see if an image is predicted to contain a dog by the pre-trained ResNet-50 model, we need only check if the `ResNet50_predict_labels` function above returns a value between 151 and 268 (inclusive).\n",
    "\n",
    "We use these ideas to complete the `dog_detector` function below, which returns `True` if a dog is detected in an image (and `False` if not)."
   ]
  },
  {
   "cell_type": "code",
   "execution_count": 12,
   "metadata": {},
   "outputs": [],
   "source": [
    "### returns \"True\" if a dog is detected in the image stored at img_path\n",
    "def dog_detector(img_path):\n",
    "    prediction = ResNet50_predict_labels(img_path)\n",
    "    return ((prediction <= 268) & (prediction >= 151)) "
   ]
  },
  {
   "cell_type": "markdown",
   "metadata": {},
   "source": [
    "### (IMPLEMENTATION) Assess the Dog Detector\n",
    "\n",
    "__Question 3:__ Use the code cell below to test the performance of your `dog_detector` function.  \n",
    "- What percentage of the images in `human_files_short` have a detected dog?  \n",
    "- What percentage of the images in `dog_files_short` have a detected dog?\n",
    "\n",
    "__Answer:__ "
   ]
  },
  {
   "cell_type": "code",
   "execution_count": 13,
   "metadata": {},
   "outputs": [],
   "source": [
    "### TODO: Test the performance of the dog_detector function\n",
    "from IPython.display import display\n",
    "from PIL import Image\n",
    "def resnetDogDetectPerf (files):\n",
    "    count = 0\n",
    "    total = len(files)\n",
    "    for file in files:\n",
    "        if dog_detector(file):\n",
    "            count += 1\n",
    "    return count / total\n",
    "\n",
    "\n",
    "\n",
    "resnet_human_perf = resnetDogDetectPerf(human_files_short)\n",
    "resnet_dog_perf = resnetDogDetectPerf(dog_files_short)\n",
    "### on the images in human_files_short and dog_files_short."
   ]
  },
  {
   "cell_type": "code",
   "execution_count": 14,
   "metadata": {},
   "outputs": [
    {
     "name": "stdout",
     "output_type": "stream",
     "text": [
      "Resnet Dog Detect on Human Images  1.0  %\n",
      "Resnet Dog Detect on Dog Images  100.0  %\n"
     ]
    }
   ],
   "source": [
    "# print result\n",
    "print(\"Resnet Dog Detect on Human Images \",resnet_human_perf * 100,\" %\")\n",
    "print(\"Resnet Dog Detect on Dog Images \",resnet_dog_perf * 100,\" %\")"
   ]
  },
  {
   "cell_type": "markdown",
   "metadata": {},
   "source": [
    "---\n",
    "<a id='step3'></a>\n",
    "## Step 3: Create a CNN to Classify Dog Breeds (from Scratch)\n",
    "\n",
    "Now that we have functions for detecting humans and dogs in images, we need a way to predict breed from images.  In this step, you will create a CNN that classifies dog breeds.  You must create your CNN _from scratch_ (so, you can't use transfer learning _yet_!), and you must attain a test accuracy of at least 1%.  In Step 5 of this notebook, you will have the opportunity to use transfer learning to create a CNN that attains greatly improved accuracy.\n",
    "\n",
    "Be careful with adding too many trainable layers!  More parameters means longer training, which means you are more likely to need a GPU to accelerate the training process.  Thankfully, Keras provides a handy estimate of the time that each epoch is likely to take; you can extrapolate this estimate to figure out how long it will take for your algorithm to train. \n",
    "\n",
    "We mention that the task of assigning breed to dogs from images is considered exceptionally challenging.  To see why, consider that *even a human* would have great difficulty in distinguishing between a Brittany and a Welsh Springer Spaniel.  \n",
    "\n",
    "Brittany | Welsh Springer Spaniel\n",
    "- | - \n",
    "<img src=\"images/Brittany_02625.jpg\" width=\"100\"> | <img src=\"images/Welsh_springer_spaniel_08203.jpg\" width=\"200\">\n",
    "\n",
    "It is not difficult to find other dog breed pairs with minimal inter-class variation (for instance, Curly-Coated Retrievers and American Water Spaniels).  \n",
    "\n",
    "Curly-Coated Retriever | American Water Spaniel\n",
    "- | -\n",
    "<img src=\"images/Curly-coated_retriever_03896.jpg\" width=\"200\"> | <img src=\"images/American_water_spaniel_00648.jpg\" width=\"200\">\n",
    "\n",
    "\n",
    "Likewise, recall that labradors come in yellow, chocolate, and black.  Your vision-based algorithm will have to conquer this high intra-class variation to determine how to classify all of these different shades as the same breed.  \n",
    "\n",
    "Yellow Labrador | Chocolate Labrador | Black Labrador\n",
    "- | -\n",
    "<img src=\"images/Labrador_retriever_06457.jpg\" width=\"150\"> | <img src=\"images/Labrador_retriever_06455.jpg\" width=\"240\"> | <img src=\"images/Labrador_retriever_06449.jpg\" width=\"220\">\n",
    "\n",
    "We also mention that random chance presents an exceptionally low bar: setting aside the fact that the classes are slightly imabalanced, a random guess will provide a correct answer roughly 1 in 133 times, which corresponds to an accuracy of less than 1%.  \n",
    "\n",
    "Remember that the practice is far ahead of the theory in deep learning.  Experiment with many different architectures, and trust your intuition.  And, of course, have fun! \n",
    "\n",
    "### Pre-process the Data\n",
    "\n",
    "We rescale the images by dividing every pixel in every image by 255."
   ]
  },
  {
   "cell_type": "code",
   "execution_count": 15,
   "metadata": {},
   "outputs": [
    {
     "name": "stderr",
     "output_type": "stream",
     "text": [
      "100%|██████████| 6680/6680 [00:50<00:00, 131.47it/s]\n",
      "100%|██████████| 835/835 [00:05<00:00, 148.16it/s]\n",
      "100%|██████████| 836/836 [00:05<00:00, 149.22it/s]\n"
     ]
    }
   ],
   "source": [
    "from PIL import ImageFile                            \n",
    "ImageFile.LOAD_TRUNCATED_IMAGES = True                 \n",
    "\n",
    "# pre-process the data for Keras\n",
    "train_tensors = paths_to_tensor(train_files).astype('float32')/255\n",
    "valid_tensors = paths_to_tensor(valid_files).astype('float32')/255\n",
    "test_tensors = paths_to_tensor(test_files).astype('float32')/255"
   ]
  },
  {
   "cell_type": "markdown",
   "metadata": {},
   "source": [
    "### (IMPLEMENTATION) Model Architecture\n",
    "\n",
    "Create a CNN to classify dog breed.  At the end of your code cell block, summarize the layers of your model by executing the line:\n",
    "    \n",
    "        model.summary()\n",
    "\n",
    "We have imported some Python modules to get you started, but feel free to import as many modules as you need.  If you end up getting stuck, here's a hint that specifies a model that trains relatively fast on CPU and attains >1% test accuracy in 5 epochs:\n",
    "\n",
    "![Sample CNN](images/sample_cnn.png)\n",
    "           \n",
    "__Question 4:__ Outline the steps you took to get to your final CNN architecture and your reasoning at each step.  If you chose to use the hinted architecture above, describe why you think that CNN architecture should work well for the image classification task.\n",
    "\n",
    "__Answer:__ "
   ]
  },
  {
   "cell_type": "code",
   "execution_count": 21,
   "metadata": {},
   "outputs": [
    {
     "name": "stdout",
     "output_type": "stream",
     "text": [
      "_________________________________________________________________\n",
      "Layer (type)                 Output Shape              Param #   \n",
      "=================================================================\n",
      "conv2d_7 (Conv2D)            (None, 224, 224, 32)      416       \n",
      "_________________________________________________________________\n",
      "max_pooling2d_8 (MaxPooling2 (None, 112, 112, 32)      0         \n",
      "_________________________________________________________________\n",
      "conv2d_8 (Conv2D)            (None, 112, 112, 64)      8256      \n",
      "_________________________________________________________________\n",
      "max_pooling2d_9 (MaxPooling2 (None, 56, 56, 64)        0         \n",
      "_________________________________________________________________\n",
      "conv2d_9 (Conv2D)            (None, 56, 56, 128)       32896     \n",
      "_________________________________________________________________\n",
      "max_pooling2d_10 (MaxPooling (None, 28, 28, 128)       0         \n",
      "_________________________________________________________________\n",
      "global_average_pooling2d_3 ( (None, 128)               0         \n",
      "_________________________________________________________________\n",
      "dense_3 (Dense)              (None, 133)               17157     \n",
      "=================================================================\n",
      "Total params: 58,725\n",
      "Trainable params: 58,725\n",
      "Non-trainable params: 0\n",
      "_________________________________________________________________\n"
     ]
    }
   ],
   "source": [
    "from keras.layers import Conv2D, MaxPooling2D, GlobalAveragePooling2D\n",
    "from keras.layers import Dropout, Flatten, Dense\n",
    "from keras.models import Sequential\n",
    "\n",
    "model = Sequential()\n",
    "### TODO: Define your architecture.\n",
    "model.add(Conv2D(32, (2,2),padding='same',strides=(1,1),activation='relu',input_shape=(224, 224, 3)))\n",
    "model.add(MaxPooling2D((2,2),))\n",
    "model.add(Conv2D(64, (2,2),padding='same',strides=(1,1),activation='relu'))\n",
    "model.add(MaxPooling2D((2,2),))\n",
    "model.add(Conv2D(128, (2,2),padding='same',strides=(1,1),activation='relu'))\n",
    "model.add(MaxPooling2D((2,2),))\n",
    "model.add(GlobalAveragePooling2D())\n",
    "model.add(Dense(133, activation='softmax'))\n",
    "\n",
    "model.summary()"
   ]
  },
  {
   "cell_type": "markdown",
   "metadata": {},
   "source": [
    "### Compile the Model"
   ]
  },
  {
   "cell_type": "code",
   "execution_count": 22,
   "metadata": {},
   "outputs": [],
   "source": [
    "model.compile(optimizer='rmsprop', loss='categorical_crossentropy', metrics=['accuracy'])"
   ]
  },
  {
   "cell_type": "markdown",
   "metadata": {},
   "source": [
    "### (IMPLEMENTATION) Train the Model\n",
    "\n",
    "Train your model in the code cell below.  Use model checkpointing to save the model that attains the best validation loss.\n",
    "\n",
    "You are welcome to [augment the training data](https://blog.keras.io/building-powerful-image-classification-models-using-very-little-data.html), but this is not a requirement. "
   ]
  },
  {
   "cell_type": "code",
   "execution_count": 23,
   "metadata": {},
   "outputs": [
    {
     "name": "stdout",
     "output_type": "stream",
     "text": [
      "Train on 6680 samples, validate on 835 samples\n",
      "Epoch 1/10\n",
      "6656/6680 [============================>.] - ETA: 0s - loss: 4.8837 - acc: 0.0095Epoch 00000: val_loss improved from inf to 4.87004, saving model to saved_models/weights.best.from_scratch.hdf5\n",
      "6680/6680 [==============================] - 35s - loss: 4.8837 - acc: 0.0094 - val_loss: 4.8700 - val_acc: 0.0108\n",
      "Epoch 2/10\n",
      "6656/6680 [============================>.] - ETA: 0s - loss: 4.8637 - acc: 0.0131Epoch 00001: val_loss improved from 4.87004 to 4.85196, saving model to saved_models/weights.best.from_scratch.hdf5\n",
      "6680/6680 [==============================] - 34s - loss: 4.8638 - acc: 0.0130 - val_loss: 4.8520 - val_acc: 0.0192\n",
      "Epoch 3/10\n",
      "6656/6680 [============================>.] - ETA: 0s - loss: 4.8316 - acc: 0.0161Epoch 00002: val_loss improved from 4.85196 to 4.82392, saving model to saved_models/weights.best.from_scratch.hdf5\n",
      "6680/6680 [==============================] - 34s - loss: 4.8319 - acc: 0.0163 - val_loss: 4.8239 - val_acc: 0.0228\n",
      "Epoch 4/10\n",
      "6656/6680 [============================>.] - ETA: 0s - loss: 4.7957 - acc: 0.0180Epoch 00003: val_loss improved from 4.82392 to 4.80038, saving model to saved_models/weights.best.from_scratch.hdf5\n",
      "6680/6680 [==============================] - 34s - loss: 4.7954 - acc: 0.0183 - val_loss: 4.8004 - val_acc: 0.0204\n",
      "Epoch 5/10\n",
      "6656/6680 [============================>.] - ETA: 0s - loss: 4.7699 - acc: 0.0209Epoch 00004: val_loss improved from 4.80038 to 4.78293, saving model to saved_models/weights.best.from_scratch.hdf5\n",
      "6680/6680 [==============================] - 34s - loss: 4.7699 - acc: 0.0210 - val_loss: 4.7829 - val_acc: 0.0192\n",
      "Epoch 6/10\n",
      "6656/6680 [============================>.] - ETA: 0s - loss: 4.7474 - acc: 0.0213Epoch 00005: val_loss improved from 4.78293 to 4.77962, saving model to saved_models/weights.best.from_scratch.hdf5\n",
      "6680/6680 [==============================] - 34s - loss: 4.7470 - acc: 0.0214 - val_loss: 4.7796 - val_acc: 0.0216\n",
      "Epoch 7/10\n",
      "6656/6680 [============================>.] - ETA: 0s - loss: 4.7224 - acc: 0.0236Epoch 00006: val_loss improved from 4.77962 to 4.75381, saving model to saved_models/weights.best.from_scratch.hdf5\n",
      "6680/6680 [==============================] - 34s - loss: 4.7229 - acc: 0.0235 - val_loss: 4.7538 - val_acc: 0.0240\n",
      "Epoch 8/10\n",
      "6656/6680 [============================>.] - ETA: 0s - loss: 4.7009 - acc: 0.0267Epoch 00007: val_loss did not improve\n",
      "6680/6680 [==============================] - 34s - loss: 4.7006 - acc: 0.0266 - val_loss: 4.7589 - val_acc: 0.0263\n",
      "Epoch 9/10\n",
      "6656/6680 [============================>.] - ETA: 0s - loss: 4.6781 - acc: 0.0306Epoch 00008: val_loss improved from 4.75381 to 4.75021, saving model to saved_models/weights.best.from_scratch.hdf5\n",
      "6680/6680 [==============================] - 34s - loss: 4.6792 - acc: 0.0305 - val_loss: 4.7502 - val_acc: 0.0204\n",
      "Epoch 10/10\n",
      "6656/6680 [============================>.] - ETA: 0s - loss: 4.6580 - acc: 0.0314Epoch 00009: val_loss did not improve\n",
      "6680/6680 [==============================] - 34s - loss: 4.6577 - acc: 0.0313 - val_loss: 4.7653 - val_acc: 0.0347\n"
     ]
    },
    {
     "data": {
      "text/plain": [
       "<keras.callbacks.History at 0x7fbd12e73d30>"
      ]
     },
     "execution_count": 23,
     "metadata": {},
     "output_type": "execute_result"
    }
   ],
   "source": [
    "from keras.callbacks import ModelCheckpoint  \n",
    "\n",
    "### TODO: specify the number of epochs that you would like to use to train the model.\n",
    "\n",
    "epochs = 10\n",
    "\n",
    "### Do NOT modify the code below this line.\n",
    "\n",
    "checkpointer = ModelCheckpoint(filepath='saved_models/weights.best.from_scratch.hdf5', \n",
    "                               verbose=1, save_best_only=True)\n",
    "\n",
    "model.fit(train_tensors, train_targets, \n",
    "          validation_data=(valid_tensors, valid_targets),\n",
    "          epochs=epochs, batch_size=64, callbacks=[checkpointer], verbose=1)"
   ]
  },
  {
   "cell_type": "markdown",
   "metadata": {},
   "source": [
    "### Load the Model with the Best Validation Loss"
   ]
  },
  {
   "cell_type": "code",
   "execution_count": 24,
   "metadata": {},
   "outputs": [],
   "source": [
    "model.load_weights('saved_models/weights.best.from_scratch.hdf5')"
   ]
  },
  {
   "cell_type": "markdown",
   "metadata": {},
   "source": [
    "### Test the Model\n",
    "\n",
    "Try out your model on the test dataset of dog images.  Ensure that your test accuracy is greater than 1%."
   ]
  },
  {
   "cell_type": "code",
   "execution_count": 25,
   "metadata": {},
   "outputs": [
    {
     "name": "stdout",
     "output_type": "stream",
     "text": [
      "Test accuracy: 2.6316%\n"
     ]
    }
   ],
   "source": [
    "# get index of predicted dog breed for each image in test set\n",
    "dog_breed_predictions = [np.argmax(model.predict(np.expand_dims(tensor, axis=0))) for tensor in test_tensors]\n",
    "\n",
    "# report test accuracy\n",
    "test_accuracy = 100*np.sum(np.array(dog_breed_predictions)==np.argmax(test_targets, axis=1))/len(dog_breed_predictions)\n",
    "print('Test accuracy: %.4f%%' % test_accuracy)"
   ]
  },
  {
   "cell_type": "markdown",
   "metadata": {},
   "source": [
    "---\n",
    "<a id='step4'></a>\n",
    "## Step 4: Use a CNN to Classify Dog Breeds\n",
    "\n",
    "To reduce training time without sacrificing accuracy, we show you how to train a CNN using transfer learning.  In the following step, you will get a chance to use transfer learning to train your own CNN.\n",
    "\n",
    "### Obtain Bottleneck Features"
   ]
  },
  {
   "cell_type": "code",
   "execution_count": 26,
   "metadata": {},
   "outputs": [],
   "source": [
    "bottleneck_features = np.load('bottleneck_features/DogVGG16Data.npz')\n",
    "train_VGG16 = bottleneck_features['train']\n",
    "valid_VGG16 = bottleneck_features['valid']\n",
    "test_VGG16 = bottleneck_features['test']"
   ]
  },
  {
   "cell_type": "markdown",
   "metadata": {},
   "source": [
    "### Model Architecture\n",
    "\n",
    "The model uses the the pre-trained VGG-16 model as a fixed feature extractor, where the last convolutional output of VGG-16 is fed as input to our model.  We only add a global average pooling layer and a fully connected layer, where the latter contains one node for each dog category and is equipped with a softmax."
   ]
  },
  {
   "cell_type": "code",
   "execution_count": 27,
   "metadata": {},
   "outputs": [
    {
     "name": "stdout",
     "output_type": "stream",
     "text": [
      "_________________________________________________________________\n",
      "Layer (type)                 Output Shape              Param #   \n",
      "=================================================================\n",
      "global_average_pooling2d_4 ( (None, 512)               0         \n",
      "_________________________________________________________________\n",
      "dense_4 (Dense)              (None, 133)               68229     \n",
      "=================================================================\n",
      "Total params: 68,229\n",
      "Trainable params: 68,229\n",
      "Non-trainable params: 0\n",
      "_________________________________________________________________\n"
     ]
    }
   ],
   "source": [
    "VGG16_model = Sequential()\n",
    "VGG16_model.add(GlobalAveragePooling2D(input_shape=train_VGG16.shape[1:]))\n",
    "VGG16_model.add(Dense(133, activation='softmax'))\n",
    "\n",
    "VGG16_model.summary()"
   ]
  },
  {
   "cell_type": "markdown",
   "metadata": {},
   "source": [
    "### Compile the Model"
   ]
  },
  {
   "cell_type": "code",
   "execution_count": 28,
   "metadata": {},
   "outputs": [],
   "source": [
    "VGG16_model.compile(loss='categorical_crossentropy', optimizer='rmsprop', metrics=['accuracy'])"
   ]
  },
  {
   "cell_type": "markdown",
   "metadata": {},
   "source": [
    "### Train the Model"
   ]
  },
  {
   "cell_type": "code",
   "execution_count": 29,
   "metadata": {},
   "outputs": [
    {
     "name": "stdout",
     "output_type": "stream",
     "text": [
      "Train on 6680 samples, validate on 835 samples\n",
      "Epoch 1/20\n",
      "6500/6680 [============================>.] - ETA: 0s - loss: 12.6338 - acc: 0.1051Epoch 00000: val_loss improved from inf to 11.04072, saving model to saved_models/weights.best.VGG16.hdf5\n",
      "6680/6680 [==============================] - 1s - loss: 12.6105 - acc: 0.1060 - val_loss: 11.0407 - val_acc: 0.1952\n",
      "Epoch 2/20\n",
      "6500/6680 [============================>.] - ETA: 0s - loss: 10.2878 - acc: 0.2649Epoch 00001: val_loss improved from 11.04072 to 10.27493, saving model to saved_models/weights.best.VGG16.hdf5\n",
      "6680/6680 [==============================] - 1s - loss: 10.2787 - acc: 0.2656 - val_loss: 10.2749 - val_acc: 0.2671\n",
      "Epoch 3/20\n",
      "6500/6680 [============================>.] - ETA: 0s - loss: 9.8030 - acc: 0.3342Epoch 00002: val_loss improved from 10.27493 to 10.13673, saving model to saved_models/weights.best.VGG16.hdf5\n",
      "6680/6680 [==============================] - 1s - loss: 9.8082 - acc: 0.3340 - val_loss: 10.1367 - val_acc: 0.2898\n",
      "Epoch 4/20\n",
      "6500/6680 [============================>.] - ETA: 0s - loss: 9.5684 - acc: 0.3594Epoch 00003: val_loss improved from 10.13673 to 9.77731, saving model to saved_models/weights.best.VGG16.hdf5\n",
      "6680/6680 [==============================] - 1s - loss: 9.5517 - acc: 0.3606 - val_loss: 9.7773 - val_acc: 0.3150\n",
      "Epoch 5/20\n",
      "6500/6680 [============================>.] - ETA: 0s - loss: 9.2162 - acc: 0.3938Epoch 00004: val_loss improved from 9.77731 to 9.69728, saving model to saved_models/weights.best.VGG16.hdf5\n",
      "6680/6680 [==============================] - 1s - loss: 9.1966 - acc: 0.3958 - val_loss: 9.6973 - val_acc: 0.3317\n",
      "Epoch 6/20\n",
      "6480/6680 [============================>.] - ETA: 0s - loss: 9.1371 - acc: 0.4054Epoch 00005: val_loss improved from 9.69728 to 9.56489, saving model to saved_models/weights.best.VGG16.hdf5\n",
      "6680/6680 [==============================] - 1s - loss: 9.1245 - acc: 0.4064 - val_loss: 9.5649 - val_acc: 0.3269\n",
      "Epoch 7/20\n",
      "6500/6680 [============================>.] - ETA: 0s - loss: 9.0340 - acc: 0.4140Epoch 00006: val_loss improved from 9.56489 to 9.53150, saving model to saved_models/weights.best.VGG16.hdf5\n",
      "6680/6680 [==============================] - 1s - loss: 9.0394 - acc: 0.4136 - val_loss: 9.5315 - val_acc: 0.3437\n",
      "Epoch 8/20\n",
      "6480/6680 [============================>.] - ETA: 0s - loss: 8.9075 - acc: 0.4276Epoch 00007: val_loss did not improve\n",
      "6680/6680 [==============================] - 1s - loss: 8.9227 - acc: 0.4269 - val_loss: 9.5337 - val_acc: 0.3521\n",
      "Epoch 9/20\n",
      "6500/6680 [============================>.] - ETA: 0s - loss: 8.8892 - acc: 0.4295Epoch 00008: val_loss improved from 9.53150 to 9.43118, saving model to saved_models/weights.best.VGG16.hdf5\n",
      "6680/6680 [==============================] - 1s - loss: 8.8653 - acc: 0.4310 - val_loss: 9.4312 - val_acc: 0.3473\n",
      "Epoch 10/20\n",
      "6500/6680 [============================>.] - ETA: 0s - loss: 8.6707 - acc: 0.4415Epoch 00009: val_loss improved from 9.43118 to 9.22137, saving model to saved_models/weights.best.VGG16.hdf5\n",
      "6680/6680 [==============================] - 1s - loss: 8.6622 - acc: 0.4421 - val_loss: 9.2214 - val_acc: 0.3557\n",
      "Epoch 11/20\n",
      "6500/6680 [============================>.] - ETA: 0s - loss: 8.5085 - acc: 0.4568Epoch 00010: val_loss improved from 9.22137 to 9.18067, saving model to saved_models/weights.best.VGG16.hdf5\n",
      "6680/6680 [==============================] - 1s - loss: 8.5152 - acc: 0.4566 - val_loss: 9.1807 - val_acc: 0.3653\n",
      "Epoch 12/20\n",
      "6500/6680 [============================>.] - ETA: 0s - loss: 8.4085 - acc: 0.4605Epoch 00011: val_loss improved from 9.18067 to 9.12079, saving model to saved_models/weights.best.VGG16.hdf5\n",
      "6680/6680 [==============================] - 1s - loss: 8.4248 - acc: 0.4593 - val_loss: 9.1208 - val_acc: 0.3653\n",
      "Epoch 13/20\n",
      "6500/6680 [============================>.] - ETA: 0s - loss: 8.2947 - acc: 0.4702Epoch 00012: val_loss improved from 9.12079 to 8.96617, saving model to saved_models/weights.best.VGG16.hdf5\n",
      "6680/6680 [==============================] - 1s - loss: 8.2965 - acc: 0.4699 - val_loss: 8.9662 - val_acc: 0.3820\n",
      "Epoch 14/20\n",
      "6500/6680 [============================>.] - ETA: 0s - loss: 8.2359 - acc: 0.4774Epoch 00013: val_loss did not improve\n",
      "6680/6680 [==============================] - 1s - loss: 8.2268 - acc: 0.4775 - val_loss: 8.9724 - val_acc: 0.3784\n",
      "Epoch 15/20\n",
      "6460/6680 [============================>.] - ETA: 0s - loss: 8.1806 - acc: 0.4807Epoch 00014: val_loss improved from 8.96617 to 8.86151, saving model to saved_models/weights.best.VGG16.hdf5\n",
      "6680/6680 [==============================] - 1s - loss: 8.1793 - acc: 0.4810 - val_loss: 8.8615 - val_acc: 0.3868\n",
      "Epoch 16/20\n",
      "6480/6680 [============================>.] - ETA: 0s - loss: 8.0330 - acc: 0.4886Epoch 00015: val_loss improved from 8.86151 to 8.74761, saving model to saved_models/weights.best.VGG16.hdf5\n",
      "6680/6680 [==============================] - 1s - loss: 8.0087 - acc: 0.4897 - val_loss: 8.7476 - val_acc: 0.3916\n",
      "Epoch 17/20\n",
      "6460/6680 [============================>.] - ETA: 0s - loss: 7.9911 - acc: 0.4978Epoch 00016: val_loss improved from 8.74761 to 8.69411, saving model to saved_models/weights.best.VGG16.hdf5\n",
      "6680/6680 [==============================] - 1s - loss: 7.9648 - acc: 0.4987 - val_loss: 8.6941 - val_acc: 0.4072\n",
      "Epoch 18/20\n",
      "6480/6680 [============================>.] - ETA: 0s - loss: 7.9042 - acc: 0.4960Epoch 00017: val_loss improved from 8.69411 to 8.62289, saving model to saved_models/weights.best.VGG16.hdf5\n",
      "6680/6680 [==============================] - 1s - loss: 7.8794 - acc: 0.4975 - val_loss: 8.6229 - val_acc: 0.4000\n",
      "Epoch 19/20\n",
      "6480/6680 [============================>.] - ETA: 0s - loss: 7.6957 - acc: 0.5079Epoch 00018: val_loss improved from 8.62289 to 8.42958, saving model to saved_models/weights.best.VGG16.hdf5\n",
      "6680/6680 [==============================] - 1s - loss: 7.7041 - acc: 0.5075 - val_loss: 8.4296 - val_acc: 0.4012\n",
      "Epoch 20/20\n",
      "6480/6680 [============================>.] - ETA: 0s - loss: 7.5595 - acc: 0.5151Epoch 00019: val_loss improved from 8.42958 to 8.36865, saving model to saved_models/weights.best.VGG16.hdf5\n",
      "6680/6680 [==============================] - 1s - loss: 7.5523 - acc: 0.5154 - val_loss: 8.3686 - val_acc: 0.4024\n"
     ]
    },
    {
     "data": {
      "text/plain": [
       "<keras.callbacks.History at 0x7fbcf5f63cf8>"
      ]
     },
     "execution_count": 29,
     "metadata": {},
     "output_type": "execute_result"
    }
   ],
   "source": [
    "checkpointer = ModelCheckpoint(filepath='saved_models/weights.best.VGG16.hdf5', \n",
    "                               verbose=1, save_best_only=True)\n",
    "\n",
    "VGG16_model.fit(train_VGG16, train_targets, \n",
    "          validation_data=(valid_VGG16, valid_targets),\n",
    "          epochs=20, batch_size=20, callbacks=[checkpointer], verbose=1)"
   ]
  },
  {
   "cell_type": "markdown",
   "metadata": {},
   "source": [
    "### Load the Model with the Best Validation Loss"
   ]
  },
  {
   "cell_type": "code",
   "execution_count": 30,
   "metadata": {},
   "outputs": [],
   "source": [
    "VGG16_model.load_weights('saved_models/weights.best.VGG16.hdf5')"
   ]
  },
  {
   "cell_type": "markdown",
   "metadata": {},
   "source": [
    "### Test the Model\n",
    "\n",
    "Now, we can use the CNN to test how well it identifies breed within our test dataset of dog images.  We print the test accuracy below."
   ]
  },
  {
   "cell_type": "code",
   "execution_count": 31,
   "metadata": {},
   "outputs": [
    {
     "name": "stdout",
     "output_type": "stream",
     "text": [
      "Test accuracy: 39.8325%\n"
     ]
    }
   ],
   "source": [
    "# get index of predicted dog breed for each image in test set\n",
    "VGG16_predictions = [np.argmax(VGG16_model.predict(np.expand_dims(feature, axis=0))) for feature in test_VGG16]\n",
    "\n",
    "# report test accuracy\n",
    "test_accuracy = 100*np.sum(np.array(VGG16_predictions)==np.argmax(test_targets, axis=1))/len(VGG16_predictions)\n",
    "print('Test accuracy: %.4f%%' % test_accuracy)"
   ]
  },
  {
   "cell_type": "markdown",
   "metadata": {},
   "source": [
    "### Predict Dog Breed with the Model"
   ]
  },
  {
   "cell_type": "code",
   "execution_count": 32,
   "metadata": {},
   "outputs": [],
   "source": [
    "from extract_bottleneck_features import *\n",
    "\n",
    "def VGG16_predict_breed(img_path):\n",
    "    # extract bottleneck features\n",
    "    bottleneck_feature = extract_VGG16(path_to_tensor(img_path))\n",
    "    # obtain predicted vector\n",
    "    predicted_vector = VGG16_model.predict(bottleneck_feature)\n",
    "    # return dog breed that is predicted by the model\n",
    "    return dog_names[np.argmax(predicted_vector)]"
   ]
  },
  {
   "cell_type": "markdown",
   "metadata": {},
   "source": [
    "---\n",
    "<a id='step5'></a>\n",
    "## Step 5: Create a CNN to Classify Dog Breeds (using Transfer Learning)\n",
    "\n",
    "You will now use transfer learning to create a CNN that can identify dog breed from images.  Your CNN must attain at least 60% accuracy on the test set.\n",
    "\n",
    "In Step 4, we used transfer learning to create a CNN using VGG-16 bottleneck features.  In this section, you must use the bottleneck features from a different pre-trained model.  To make things easier for you, we have pre-computed the features for all of the networks that are currently available in Keras:\n",
    "- [VGG-19](https://s3-us-west-1.amazonaws.com/udacity-aind/dog-project/DogVGG19Data.npz) bottleneck features\n",
    "- [ResNet-50](https://s3-us-west-1.amazonaws.com/udacity-aind/dog-project/DogResnet50Data.npz) bottleneck features\n",
    "- [Inception](https://s3-us-west-1.amazonaws.com/udacity-aind/dog-project/DogInceptionV3Data.npz) bottleneck features\n",
    "- [Xception](https://s3-us-west-1.amazonaws.com/udacity-aind/dog-project/DogXceptionData.npz) bottleneck features\n",
    "\n",
    "The files are encoded as such:\n",
    "\n",
    "    Dog{network}Data.npz\n",
    "    \n",
    "where `{network}`, in the above filename, can be one of `VGG19`, `Resnet50`, `InceptionV3`, or `Xception`.  Pick one of the above architectures, download the corresponding bottleneck features, and store the downloaded file in the `bottleneck_features/` folder in the repository.\n",
    "\n",
    "### (IMPLEMENTATION) Obtain Bottleneck Features\n",
    "\n",
    "In the code block below, extract the bottleneck features corresponding to the train, test, and validation sets by running the following:\n",
    "\n",
    "    bottleneck_features = np.load('bottleneck_features/Dog{network}Data.npz')\n",
    "    train_{network} = bottleneck_features['train']\n",
    "    valid_{network} = bottleneck_features['valid']\n",
    "    test_{network} = bottleneck_features['test']"
   ]
  },
  {
   "cell_type": "code",
   "execution_count": 34,
   "metadata": {},
   "outputs": [],
   "source": [
    "### TODO: Obtain bottleneck features from another pre-trained CNN.\n",
    "vgg19_bottleneck_features = np.load('bottleneck_features/DogVGG19Data.npz')\n",
    "train_vgg19 = vgg19_bottleneck_features['train']\n",
    "valid_vgg19 = vgg19_bottleneck_features['valid']\n",
    "test_vgg19 = vgg19_bottleneck_features['test']"
   ]
  },
  {
   "cell_type": "code",
   "execution_count": 37,
   "metadata": {},
   "outputs": [],
   "source": [
    "### TODO: Obtain bottleneck features from another pre-trained CNN.\n",
    "inception_bottleneck_features = np.load('bottleneck_features/DogInceptionV3Data.npz')\n",
    "train_inception = inception_bottleneck_features['train']\n",
    "valid_inception = inception_bottleneck_features['valid']\n",
    "test_inception = inception_bottleneck_features['test']"
   ]
  },
  {
   "cell_type": "code",
   "execution_count": 38,
   "metadata": {},
   "outputs": [],
   "source": [
    "### TODO: Obtain bottleneck features from another pre-trained CNN.\n",
    "xception_bottleneck_features = np.load('bottleneck_features/DogXceptionData.npz')\n",
    "train_xception = xception_bottleneck_features['train']\n",
    "valid_xception = xception_bottleneck_features['valid']\n",
    "test_xception = xception_bottleneck_features['test']"
   ]
  },
  {
   "cell_type": "code",
   "execution_count": 48,
   "metadata": {},
   "outputs": [
    {
     "name": "stdout",
     "output_type": "stream",
     "text": [
      "(7, 7, 512)\n",
      "(5, 5, 2048)\n",
      "(7, 7, 2048)\n"
     ]
    }
   ],
   "source": [
    "print(train_vgg19.shape[1:])\n",
    "print(train_inception.shape[1:])\n",
    "print(train_xception.shape[1:])"
   ]
  },
  {
   "cell_type": "markdown",
   "metadata": {},
   "source": [
    "### (IMPLEMENTATION) Model Architecture\n",
    "\n",
    "Create a CNN to classify dog breed.  At the end of your code cell block, summarize the layers of your model by executing the line:\n",
    "    \n",
    "        <your model's name>.summary()\n",
    "   \n",
    "__Question 5:__ Outline the steps you took to get to your final CNN architecture and your reasoning at each step.  Describe why you think the architecture is suitable for the current problem.\n",
    "\n",
    "__Answer:__ \n",
    "\n"
   ]
  },
  {
   "cell_type": "code",
   "execution_count": 133,
   "metadata": {},
   "outputs": [
    {
     "name": "stdout",
     "output_type": "stream",
     "text": [
      "_________________________________________________________________\n",
      "Layer (type)                 Output Shape              Param #   \n",
      "=================================================================\n",
      "global_average_pooling2d_21  (None, 512)               0         \n",
      "_________________________________________________________________\n",
      "dense_27 (Dense)             (None, 500)               256500    \n",
      "_________________________________________________________________\n",
      "dense_28 (Dense)             (None, 133)               66633     \n",
      "=================================================================\n",
      "Total params: 323,133\n",
      "Trainable params: 323,133\n",
      "Non-trainable params: 0\n",
      "_________________________________________________________________\n"
     ]
    }
   ],
   "source": [
    "### TODO: Define your architecture.\n",
    "## VGG 19 MODEL\n",
    "vgg19_model = Sequential()\n",
    "vgg19_model.add(GlobalAveragePooling2D(input_shape=train_vgg19.shape[1:]))\n",
    "vgg19_model.add(Dense(500, activation='relu'))\n",
    "vgg19_model.add(Dense(133, activation='softmax'))\n",
    "vgg19_model.summary()"
   ]
  },
  {
   "cell_type": "code",
   "execution_count": 94,
   "metadata": {},
   "outputs": [
    {
     "name": "stdout",
     "output_type": "stream",
     "text": [
      "_________________________________________________________________\n",
      "Layer (type)                 Output Shape              Param #   \n",
      "=================================================================\n",
      "global_average_pooling2d_15  (None, 2048)              0         \n",
      "_________________________________________________________________\n",
      "dense_16 (Dense)             (None, 133)               272517    \n",
      "=================================================================\n",
      "Total params: 272,517\n",
      "Trainable params: 272,517\n",
      "Non-trainable params: 0\n",
      "_________________________________________________________________\n"
     ]
    }
   ],
   "source": [
    "## INCEPTION MODEL \n",
    "inception_model = Sequential()\n",
    "inception_model.add(GlobalAveragePooling2D(input_shape=train_inception.shape[1:]))\n",
    "vgg19_model.add(Dense(1000, activation='relu'))\n",
    "inception_model.add(Dense(133, activation='softmax'))\n",
    "inception_model.summary()\n"
   ]
  },
  {
   "cell_type": "code",
   "execution_count": 95,
   "metadata": {},
   "outputs": [
    {
     "name": "stdout",
     "output_type": "stream",
     "text": [
      "_________________________________________________________________\n",
      "Layer (type)                 Output Shape              Param #   \n",
      "=================================================================\n",
      "global_average_pooling2d_16  (None, 2048)              0         \n",
      "_________________________________________________________________\n",
      "dense_18 (Dense)             (None, 133)               272517    \n",
      "=================================================================\n",
      "Total params: 272,517\n",
      "Trainable params: 272,517\n",
      "Non-trainable params: 0\n",
      "_________________________________________________________________\n"
     ]
    }
   ],
   "source": [
    "\n",
    "## XCEPTION MODEL \n",
    "xception_model = Sequential()\n",
    "xception_model.add(GlobalAveragePooling2D(input_shape=train_xception.shape[1:]))\n",
    "vgg19_model.add(Dense(1000, activation='relu'))\n",
    "xception_model.add(Dense(133, activation='softmax'))\n",
    "xception_model.summary()\n"
   ]
  },
  {
   "cell_type": "markdown",
   "metadata": {},
   "source": [
    "### (IMPLEMENTATION) Compile the Model"
   ]
  },
  {
   "cell_type": "code",
   "execution_count": 135,
   "metadata": {},
   "outputs": [],
   "source": [
    "### TODO: Compile the model.\n",
    "vgg19_model.compile(optimizer='adam',loss='categorical_crossentropy', metrics=['accuracy'])"
   ]
  },
  {
   "cell_type": "code",
   "execution_count": 96,
   "metadata": {},
   "outputs": [],
   "source": [
    "inception_model.compile(optimizer='adam',loss='categorical_crossentropy', metrics=['accuracy'])"
   ]
  },
  {
   "cell_type": "code",
   "execution_count": 97,
   "metadata": {},
   "outputs": [],
   "source": [
    "xception_model.compile(optimizer='adam',loss='categorical_crossentropy', metrics=['accuracy'])"
   ]
  },
  {
   "cell_type": "markdown",
   "metadata": {},
   "source": [
    "### (IMPLEMENTATION) Train the Model\n",
    "\n",
    "Train your model in the code cell below.  Use model checkpointing to save the model that attains the best validation loss.  \n",
    "\n",
    "You are welcome to [augment the training data](https://blog.keras.io/building-powerful-image-classification-models-using-very-little-data.html), but this is not a requirement. "
   ]
  },
  {
   "cell_type": "code",
   "execution_count": 136,
   "metadata": {},
   "outputs": [
    {
     "name": "stdout",
     "output_type": "stream",
     "text": [
      "Train on 6680 samples, validate on 835 samples\n",
      "Epoch 1/20\n",
      "6600/6680 [============================>.] - ETA: 0s - loss: 3.3480 - acc: 0.4464Epoch 00000: val_loss improved from inf to 1.57686, saving model to saved_models/weights.best.VGG19.hdf5\n",
      "6680/6680 [==============================] - 2s - loss: 3.3285 - acc: 0.4488 - val_loss: 1.5769 - val_acc: 0.5952\n",
      "Epoch 2/20\n",
      "6620/6680 [============================>.] - ETA: 0s - loss: 0.7753 - acc: 0.7823Epoch 00001: val_loss improved from 1.57686 to 1.23424, saving model to saved_models/weights.best.VGG19.hdf5\n",
      "6680/6680 [==============================] - 1s - loss: 0.7753 - acc: 0.7820 - val_loss: 1.2342 - val_acc: 0.6695\n",
      "Epoch 3/20\n",
      "6620/6680 [============================>.] - ETA: 0s - loss: 0.4100 - acc: 0.8680Epoch 00002: val_loss improved from 1.23424 to 1.23214, saving model to saved_models/weights.best.VGG19.hdf5\n",
      "6680/6680 [==============================] - 1s - loss: 0.4122 - acc: 0.8674 - val_loss: 1.2321 - val_acc: 0.6910\n",
      "Epoch 4/20\n",
      "6620/6680 [============================>.] - ETA: 0s - loss: 0.2661 - acc: 0.9175Epoch 00003: val_loss improved from 1.23214 to 1.19158, saving model to saved_models/weights.best.VGG19.hdf5\n",
      "6680/6680 [==============================] - 1s - loss: 0.2661 - acc: 0.9174 - val_loss: 1.1916 - val_acc: 0.7162\n",
      "Epoch 5/20\n",
      "6620/6680 [============================>.] - ETA: 0s - loss: 0.1871 - acc: 0.9409Epoch 00004: val_loss did not improve\n",
      "6680/6680 [==============================] - 1s - loss: 0.1874 - acc: 0.9409 - val_loss: 1.3336 - val_acc: 0.7054\n",
      "Epoch 6/20\n",
      "6620/6680 [============================>.] - ETA: 0s - loss: 0.1839 - acc: 0.9452Epoch 00005: val_loss did not improve\n",
      "6680/6680 [==============================] - 1s - loss: 0.1837 - acc: 0.9452 - val_loss: 1.2611 - val_acc: 0.7078\n",
      "Epoch 7/20\n",
      "6620/6680 [============================>.] - ETA: 0s - loss: 0.1622 - acc: 0.9502Epoch 00006: val_loss did not improve\n",
      "6680/6680 [==============================] - 1s - loss: 0.1620 - acc: 0.9501 - val_loss: 1.4054 - val_acc: 0.7042\n",
      "Epoch 8/20\n",
      "6620/6680 [============================>.] - ETA: 0s - loss: 0.1547 - acc: 0.9536Epoch 00007: val_loss did not improve\n",
      "6680/6680 [==============================] - 1s - loss: 0.1543 - acc: 0.9537 - val_loss: 1.3724 - val_acc: 0.7257\n",
      "Epoch 9/20\n",
      "6620/6680 [============================>.] - ETA: 0s - loss: 0.1477 - acc: 0.9551Epoch 00008: val_loss did not improve\n",
      "6680/6680 [==============================] - 1s - loss: 0.1490 - acc: 0.9545 - val_loss: 1.2454 - val_acc: 0.7377\n",
      "Epoch 10/20\n",
      "6620/6680 [============================>.] - ETA: 0s - loss: 0.1572 - acc: 0.9523Epoch 00009: val_loss did not improve\n",
      "6680/6680 [==============================] - 1s - loss: 0.1566 - acc: 0.9524 - val_loss: 1.4318 - val_acc: 0.7186\n",
      "Epoch 11/20\n",
      "6620/6680 [============================>.] - ETA: 0s - loss: 0.1514 - acc: 0.9548Epoch 00010: val_loss did not improve\n",
      "6680/6680 [==============================] - 1s - loss: 0.1511 - acc: 0.9551 - val_loss: 1.4804 - val_acc: 0.7341\n",
      "Epoch 12/20\n",
      "6600/6680 [============================>.] - ETA: 0s - loss: 0.1125 - acc: 0.9653Epoch 00011: val_loss did not improve\n",
      "6680/6680 [==============================] - 1s - loss: 0.1136 - acc: 0.9648 - val_loss: 1.9743 - val_acc: 0.6922\n",
      "Epoch 13/20\n",
      "6620/6680 [============================>.] - ETA: 0s - loss: 0.2018 - acc: 0.9426Epoch 00012: val_loss did not improve\n",
      "6680/6680 [==============================] - 1s - loss: 0.2009 - acc: 0.9427 - val_loss: 1.6154 - val_acc: 0.7293\n",
      "Epoch 14/20\n",
      "6580/6680 [============================>.] - ETA: 0s - loss: 0.1099 - acc: 0.9717Epoch 00013: val_loss did not improve\n",
      "6680/6680 [==============================] - 1s - loss: 0.1092 - acc: 0.9717 - val_loss: 1.5628 - val_acc: 0.7509\n",
      "Epoch 15/20\n",
      "6620/6680 [============================>.] - ETA: 0s - loss: 0.1451 - acc: 0.9606Epoch 00014: val_loss did not improve\n",
      "6680/6680 [==============================] - 1s - loss: 0.1451 - acc: 0.9608 - val_loss: 1.8606 - val_acc: 0.7126\n",
      "Epoch 16/20\n",
      "6620/6680 [============================>.] - ETA: 0s - loss: 0.1292 - acc: 0.9650Epoch 00015: val_loss did not improve\n",
      "6680/6680 [==============================] - 1s - loss: 0.1286 - acc: 0.9651 - val_loss: 1.7409 - val_acc: 0.7210\n",
      "Epoch 17/20\n",
      "6620/6680 [============================>.] - ETA: 0s - loss: 0.1048 - acc: 0.9721Epoch 00016: val_loss did not improve\n",
      "6680/6680 [==============================] - 1s - loss: 0.1044 - acc: 0.9720 - val_loss: 1.6300 - val_acc: 0.7389\n",
      "Epoch 18/20\n",
      "6600/6680 [============================>.] - ETA: 0s - loss: 0.0713 - acc: 0.9821Epoch 00017: val_loss did not improve\n",
      "6680/6680 [==============================] - 1s - loss: 0.0725 - acc: 0.9817 - val_loss: 1.9114 - val_acc: 0.7317\n",
      "Epoch 19/20\n",
      "6580/6680 [============================>.] - ETA: 0s - loss: 0.1509 - acc: 0.9620Epoch 00018: val_loss did not improve\n",
      "6680/6680 [==============================] - 1s - loss: 0.1514 - acc: 0.9620 - val_loss: 1.8659 - val_acc: 0.7377\n",
      "Epoch 20/20\n",
      "6620/6680 [============================>.] - ETA: 0s - loss: 0.1760 - acc: 0.9562Epoch 00019: val_loss did not improve\n",
      "6680/6680 [==============================] - 1s - loss: 0.1791 - acc: 0.9560 - val_loss: 2.0292 - val_acc: 0.7401\n"
     ]
    },
    {
     "data": {
      "text/plain": [
       "<keras.callbacks.History at 0x7fbcf4477358>"
      ]
     },
     "execution_count": 136,
     "metadata": {},
     "output_type": "execute_result"
    }
   ],
   "source": [
    "### TODO: Train the model.\n",
    "## TRAIN_VGG_19\n",
    "checkpointer = ModelCheckpoint(filepath='saved_models/weights.best.VGG19.hdf5', \n",
    "                               verbose=1, save_best_only=True)\n",
    "\n",
    "vgg19_model.fit(train_vgg19, train_targets, \n",
    "          validation_data=(valid_vgg19, valid_targets),\n",
    "          epochs=20, batch_size=20, callbacks=[checkpointer], verbose=1)"
   ]
  },
  {
   "cell_type": "code",
   "execution_count": 98,
   "metadata": {},
   "outputs": [
    {
     "name": "stdout",
     "output_type": "stream",
     "text": [
      "Train on 6680 samples, validate on 835 samples\n",
      "Epoch 1/10\n",
      "6640/6680 [============================>.] - ETA: 0s - loss: 1.1858 - acc: 0.7169Epoch 00000: val_loss improved from inf to 0.67100, saving model to saved_models/weights.best.inception.hdf5\n",
      "6680/6680 [==============================] - 2s - loss: 1.1845 - acc: 0.7169 - val_loss: 0.6710 - val_acc: 0.7940\n",
      "Epoch 2/10\n",
      "6620/6680 [============================>.] - ETA: 0s - loss: 0.4018 - acc: 0.8719Epoch 00001: val_loss improved from 0.67100 to 0.65045, saving model to saved_models/weights.best.inception.hdf5\n",
      "6680/6680 [==============================] - 2s - loss: 0.4026 - acc: 0.8720 - val_loss: 0.6505 - val_acc: 0.8335\n",
      "Epoch 3/10\n",
      "6660/6680 [============================>.] - ETA: 0s - loss: 0.2407 - acc: 0.9182Epoch 00002: val_loss did not improve\n",
      "6680/6680 [==============================] - 2s - loss: 0.2402 - acc: 0.9184 - val_loss: 0.6786 - val_acc: 0.8120\n",
      "Epoch 4/10\n",
      "6540/6680 [============================>.] - ETA: 0s - loss: 0.1592 - acc: 0.9502Epoch 00003: val_loss improved from 0.65045 to 0.63142, saving model to saved_models/weights.best.inception.hdf5\n",
      "6680/6680 [==============================] - 2s - loss: 0.1596 - acc: 0.9497 - val_loss: 0.6314 - val_acc: 0.8371\n",
      "Epoch 5/10\n",
      "6600/6680 [============================>.] - ETA: 0s - loss: 0.1144 - acc: 0.9617Epoch 00004: val_loss improved from 0.63142 to 0.60173, saving model to saved_models/weights.best.inception.hdf5\n",
      "6680/6680 [==============================] - 2s - loss: 0.1161 - acc: 0.9608 - val_loss: 0.6017 - val_acc: 0.8515\n",
      "Epoch 6/10\n",
      "6600/6680 [============================>.] - ETA: 0s - loss: 0.0709 - acc: 0.9789Epoch 00005: val_loss improved from 0.60173 to 0.57600, saving model to saved_models/weights.best.inception.hdf5\n",
      "6680/6680 [==============================] - 2s - loss: 0.0707 - acc: 0.9792 - val_loss: 0.5760 - val_acc: 0.8527\n",
      "Epoch 7/10\n",
      "6540/6680 [============================>.] - ETA: 0s - loss: 0.0558 - acc: 0.9841Epoch 00006: val_loss did not improve\n",
      "6680/6680 [==============================] - 2s - loss: 0.0568 - acc: 0.9837 - val_loss: 0.6376 - val_acc: 0.8467\n",
      "Epoch 8/10\n",
      "6540/6680 [============================>.] - ETA: 0s - loss: 0.0482 - acc: 0.9867Epoch 00007: val_loss did not improve\n",
      "6680/6680 [==============================] - 2s - loss: 0.0480 - acc: 0.9867 - val_loss: 0.6108 - val_acc: 0.8587\n",
      "Epoch 9/10\n",
      "6520/6680 [============================>.] - ETA: 0s - loss: 0.0389 - acc: 0.9906Epoch 00008: val_loss did not improve\n",
      "6680/6680 [==============================] - 2s - loss: 0.0401 - acc: 0.9904 - val_loss: 0.5988 - val_acc: 0.8731\n",
      "Epoch 10/10\n",
      "6640/6680 [============================>.] - ETA: 0s - loss: 0.0368 - acc: 0.9905Epoch 00009: val_loss did not improve\n",
      "6680/6680 [==============================] - 2s - loss: 0.0367 - acc: 0.9906 - val_loss: 0.7491 - val_acc: 0.8299\n"
     ]
    },
    {
     "data": {
      "text/plain": [
       "<keras.callbacks.History at 0x7fbcf4f29eb8>"
      ]
     },
     "execution_count": 98,
     "metadata": {},
     "output_type": "execute_result"
    }
   ],
   "source": [
    "### TODO: Train the model.\n",
    "## TRAIN_INCEPTION\n",
    "checkpointer = ModelCheckpoint(filepath='saved_models/weights.best.inception.hdf5', \n",
    "                               verbose=1, save_best_only=True)\n",
    "\n",
    "inception_model.fit(train_inception, train_targets, \n",
    "          validation_data=(valid_inception, valid_targets),\n",
    "          epochs=10, batch_size=20, callbacks=[checkpointer], verbose=1)"
   ]
  },
  {
   "cell_type": "code",
   "execution_count": 99,
   "metadata": {},
   "outputs": [
    {
     "name": "stdout",
     "output_type": "stream",
     "text": [
      "Train on 6680 samples, validate on 835 samples\n",
      "Epoch 1/10\n",
      "6660/6680 [============================>.] - ETA: 0s - loss: 1.1193 - acc: 0.7275Epoch 00000: val_loss improved from inf to 0.53630, saving model to saved_models/weights.best.xception.hdf5\n",
      "6680/6680 [==============================] - 3s - loss: 1.1172 - acc: 0.7278 - val_loss: 0.5363 - val_acc: 0.8287\n",
      "Epoch 2/10\n",
      "6640/6680 [============================>.] - ETA: 0s - loss: 0.3474 - acc: 0.8985Epoch 00001: val_loss improved from 0.53630 to 0.48650, saving model to saved_models/weights.best.xception.hdf5\n",
      "6680/6680 [==============================] - 3s - loss: 0.3469 - acc: 0.8984 - val_loss: 0.4865 - val_acc: 0.8539\n",
      "Epoch 3/10\n",
      "6660/6680 [============================>.] - ETA: 0s - loss: 0.2213 - acc: 0.9384Epoch 00002: val_loss improved from 0.48650 to 0.48025, saving model to saved_models/weights.best.xception.hdf5\n",
      "6680/6680 [==============================] - 3s - loss: 0.2219 - acc: 0.9382 - val_loss: 0.4803 - val_acc: 0.8491\n",
      "Epoch 4/10\n",
      "6640/6680 [============================>.] - ETA: 0s - loss: 0.1573 - acc: 0.9619Epoch 00003: val_loss improved from 0.48025 to 0.47322, saving model to saved_models/weights.best.xception.hdf5\n",
      "6680/6680 [==============================] - 3s - loss: 0.1573 - acc: 0.9618 - val_loss: 0.4732 - val_acc: 0.8503\n",
      "Epoch 5/10\n",
      "6600/6680 [============================>.] - ETA: 0s - loss: 0.1143 - acc: 0.9733Epoch 00004: val_loss improved from 0.47322 to 0.44680, saving model to saved_models/weights.best.xception.hdf5\n",
      "6680/6680 [==============================] - 3s - loss: 0.1139 - acc: 0.9735 - val_loss: 0.4468 - val_acc: 0.8575\n",
      "Epoch 6/10\n",
      "6660/6680 [============================>.] - ETA: 0s - loss: 0.0860 - acc: 0.9830Epoch 00005: val_loss did not improve\n",
      "6680/6680 [==============================] - 3s - loss: 0.0859 - acc: 0.9831 - val_loss: 0.4640 - val_acc: 0.8551\n",
      "Epoch 7/10\n",
      "6640/6680 [============================>.] - ETA: 0s - loss: 0.0645 - acc: 0.9910Epoch 00006: val_loss did not improve\n",
      "6680/6680 [==============================] - 3s - loss: 0.0651 - acc: 0.9906 - val_loss: 0.4553 - val_acc: 0.8527\n",
      "Epoch 8/10\n",
      "6660/6680 [============================>.] - ETA: 0s - loss: 0.0538 - acc: 0.9922Epoch 00007: val_loss did not improve\n",
      "6680/6680 [==============================] - 3s - loss: 0.0538 - acc: 0.9922 - val_loss: 0.4527 - val_acc: 0.8611\n",
      "Epoch 9/10\n",
      "6600/6680 [============================>.] - ETA: 0s - loss: 0.0441 - acc: 0.9933Epoch 00008: val_loss did not improve\n",
      "6680/6680 [==============================] - 3s - loss: 0.0441 - acc: 0.9933 - val_loss: 0.4849 - val_acc: 0.8479\n",
      "Epoch 10/10\n",
      "6620/6680 [============================>.] - ETA: 0s - loss: 0.0384 - acc: 0.9952Epoch 00009: val_loss did not improve\n",
      "6680/6680 [==============================] - 3s - loss: 0.0384 - acc: 0.9952 - val_loss: 0.4799 - val_acc: 0.8491\n"
     ]
    },
    {
     "data": {
      "text/plain": [
       "<keras.callbacks.History at 0x7fbcf4d95828>"
      ]
     },
     "execution_count": 99,
     "metadata": {},
     "output_type": "execute_result"
    }
   ],
   "source": [
    "### TODO: Train the model.\n",
    "## TRAIN_XCEPTION\n",
    "checkpointer = ModelCheckpoint(filepath='saved_models/weights.best.xception.hdf5', \n",
    "                               verbose=1, save_best_only=True)\n",
    "\n",
    "xception_model.fit(train_xception, train_targets, \n",
    "          validation_data=(valid_xception, valid_targets),\n",
    "          epochs=10, batch_size=20, callbacks=[checkpointer], verbose=1)"
   ]
  },
  {
   "cell_type": "markdown",
   "metadata": {},
   "source": [
    "### (IMPLEMENTATION) Load the Model with the Best Validation Loss"
   ]
  },
  {
   "cell_type": "code",
   "execution_count": 137,
   "metadata": {},
   "outputs": [],
   "source": [
    "### TODO: Load the model weights with the best validation loss.\n",
    "vgg19_model.load_weights('saved_models/weights.best.VGG19.hdf5')"
   ]
  },
  {
   "cell_type": "code",
   "execution_count": 100,
   "metadata": {},
   "outputs": [],
   "source": [
    "inception_model.load_weights('saved_models/weights.best.inception.hdf5')"
   ]
  },
  {
   "cell_type": "code",
   "execution_count": 101,
   "metadata": {},
   "outputs": [],
   "source": [
    "xception_model.load_weights('saved_models/weights.best.xception.hdf5')"
   ]
  },
  {
   "cell_type": "markdown",
   "metadata": {},
   "source": [
    "### (IMPLEMENTATION) Test the Model\n",
    "\n",
    "Try out your model on the test dataset of dog images. Ensure that your test accuracy is greater than 60%."
   ]
  },
  {
   "cell_type": "code",
   "execution_count": 138,
   "metadata": {},
   "outputs": [
    {
     "name": "stdout",
     "output_type": "stream",
     "text": [
      "Test accuracy: 72.4880%\n"
     ]
    }
   ],
   "source": [
    "## sum all one devided by length\n",
    "vgg19_predictions = [np.argmax(vgg19_model.predict(np.expand_dims(test, axis=0))) for test in test_vgg19]\n",
    "total_test_sample = len(test_vgg19)\n",
    "test_accuracy = np.sum(np.argmax(test_targets, axis=1) == vgg19_predictions) / total_test_sample\n",
    "print('Test accuracy: %.4f%%' % (test_accuracy *100))\n"
   ]
  },
  {
   "cell_type": "code",
   "execution_count": 102,
   "metadata": {},
   "outputs": [
    {
     "name": "stdout",
     "output_type": "stream",
     "text": [
      "Test accuracy: 82.7751%\n"
     ]
    }
   ],
   "source": [
    "# INCEPTION MODEL ACCURACY \n",
    "inception_predictions = [np.argmax(inception_model.predict(np.expand_dims(test, axis=0))) for test in test_inception]\n",
    "total_test_sample = len(test_inception)\n",
    "test_accuracy = np.sum(np.argmax(test_targets, axis=1) == inception_predictions) / total_test_sample\n",
    "print('Test accuracy: %.4f%%' % (test_accuracy *100))\n"
   ]
  },
  {
   "cell_type": "code",
   "execution_count": 103,
   "metadata": {},
   "outputs": [
    {
     "name": "stdout",
     "output_type": "stream",
     "text": [
      "Test accuracy: 85.6459%\n"
     ]
    }
   ],
   "source": [
    "# XCEPTION MODEL ACCURACY\n",
    "xception_predictions = [np.argmax(xception_model.predict(np.expand_dims(test, axis=0))) for test in test_xception]\n",
    "total_test_sample = len(test_xception)\n",
    "test_accuracy = np.sum(np.argmax(test_targets, axis=1) == xception_predictions) / total_test_sample\n",
    "print('Test accuracy: %.4f%%' % (test_accuracy *100))\n"
   ]
  },
  {
   "cell_type": "markdown",
   "metadata": {},
   "source": [
    "#### Conclusion:\n",
    "XCEPTION model performs best here so I will select it for later predicting task."
   ]
  },
  {
   "cell_type": "markdown",
   "metadata": {},
   "source": [
    "### (IMPLEMENTATION) Predict Dog Breed with the Model\n",
    "\n",
    "Write a function that takes an image path as input and returns the dog breed (`Affenpinscher`, `Afghan_hound`, etc) that is predicted by your model.  \n",
    "\n",
    "Similar to the analogous function in Step 5, your function should have three steps:\n",
    "1. Extract the bottleneck features corresponding to the chosen CNN model.\n",
    "2. Supply the bottleneck features as input to the model to return the predicted vector.  Note that the argmax of this prediction vector gives the index of the predicted dog breed.\n",
    "3. Use the `dog_names` array defined in Step 0 of this notebook to return the corresponding breed.\n",
    "\n",
    "The functions to extract the bottleneck features can be found in `extract_bottleneck_features.py`, and they have been imported in an earlier code cell.  To obtain the bottleneck features corresponding to your chosen CNN architecture, you need to use the function\n",
    "\n",
    "    extract_{network}\n",
    "    \n",
    "where `{network}`, in the above filename, should be one of `VGG19`, `Resnet50`, `InceptionV3`, or `Xception`."
   ]
  },
  {
   "cell_type": "code",
   "execution_count": 150,
   "metadata": {},
   "outputs": [],
   "source": [
    "### TODO: Write a function that takes a path to an image as input\n",
    "### and returns the dog breed that is predicted by the model.\n",
    "def predictWithXceptionModel(imgPath):\n",
    "    # sanity check\n",
    "    if imgPath == None:\n",
    "        return None\n",
    "    # make data become tensor \n",
    "    imgTensor = path_to_tensor(imgPath)\n",
    "    imgBottleneckFeature = extract_Xception(imgTensor)\n",
    "    dogNameIdx = np.argmax(xception_model.predict(imgBottleneckFeature))\n",
    "    # check if this is valid\n",
    "    if dogNameIdx < len(dog_names):\n",
    "        return dog_names[dogNameIdx]\n",
    "    \n",
    "    return None    "
   ]
  },
  {
   "cell_type": "markdown",
   "metadata": {},
   "source": [
    "---\n",
    "<a id='step6'></a>\n",
    "## Step 6: Write your Algorithm\n",
    "\n",
    "Write an algorithm that accepts a file path to an image and first determines whether the image contains a human, dog, or neither.  Then,\n",
    "- if a __dog__ is detected in the image, return the predicted breed.\n",
    "- if a __human__ is detected in the image, return the resembling dog breed.\n",
    "- if __neither__ is detected in the image, provide output that indicates an error.\n",
    "\n",
    "You are welcome to write your own functions for detecting humans and dogs in images, but feel free to use the `face_detector` and `dog_detector` functions developed above.  You are __required__ to use your CNN from Step 5 to predict dog breed.  \n",
    "\n",
    "Some sample output for our algorithm is provided below, but feel free to design your own user experience!\n",
    "\n",
    "![Sample Human Output](images/sample_human_output.png)\n",
    "\n",
    "\n",
    "### (IMPLEMENTATION) Write your Algorithm"
   ]
  },
  {
   "cell_type": "code",
   "execution_count": 151,
   "metadata": {},
   "outputs": [],
   "source": [
    "### TODO: Write your algorithm.\n",
    "### Feel free to use as many code cells as needed.\n",
    "def detectDogBreedOrHuman(imgPath):\n",
    "    msg = None\n",
    "    dogResemblingBreed = predictWithXceptionModel(imgPath)\n",
    "    if face_detector(imgPath):\n",
    "        msg = \"Hello Someone. You look like a ....  \"+ dogResemblingBreed\n",
    "    elif dog_detector(imgPath):\n",
    "        msg = \"Hello Puppy. You are a cute .... \"+ dogResemblingBreed\n",
    "    \n",
    "    else:\n",
    "        msg = \"Sorry we are not recognizing you !!! \"\n",
    "    \n",
    "    return msg\n",
    "        "
   ]
  },
  {
   "cell_type": "markdown",
   "metadata": {},
   "source": [
    "---\n",
    "<a id='step7'></a>\n",
    "## Step 7: Test Your Algorithm\n",
    "\n",
    "In this section, you will take your new algorithm for a spin!  What kind of dog does the algorithm think that __you__ look like?  If you have a dog, does it predict your dog's breed accurately?  If you have a cat, does it mistakenly think that your cat is a dog?\n",
    "\n",
    "### (IMPLEMENTATION) Test Your Algorithm on Sample Images!\n",
    "\n",
    "Test your algorithm at least six images on your computer.  Feel free to use any images you like.  Use at least two human and two dog images.  \n",
    "\n",
    "__Question 6:__ Is the output better than you expected :) ?  Or worse :( ?  Provide at least three possible points of improvement for your algorithm.\n",
    "\n",
    "__Answer:__ "
   ]
  },
  {
   "cell_type": "code",
   "execution_count": 152,
   "metadata": {},
   "outputs": [
    {
     "data": {
      "text/plain": [
       "'Hello Puppy. You are a cute .... Alaskan_malamute'"
      ]
     },
     "execution_count": 152,
     "metadata": {},
     "output_type": "execute_result"
    }
   ],
   "source": [
    "## TODO: Execute your algorithm from Step 6 on\n",
    "## at least 6 images on your computer.\n",
    "## Feel free to use as many code cells as needed.\n",
    "detectDogBreedOrHuman('myDogImages/husky.jpg')"
   ]
  },
  {
   "cell_type": "code",
   "execution_count": 153,
   "metadata": {},
   "outputs": [
    {
     "data": {
      "text/plain": [
       "'Hello Puppy. You are a cute .... Manchester_terrier'"
      ]
     },
     "execution_count": 153,
     "metadata": {},
     "output_type": "execute_result"
    }
   ],
   "source": [
    "detectDogBreedOrHuman('myDogImages/chihuahua.jpg')"
   ]
  },
  {
   "cell_type": "code",
   "execution_count": 154,
   "metadata": {},
   "outputs": [
    {
     "data": {
      "text/plain": [
       "'Hello Puppy. You are a cute .... Chesapeake_bay_retriever'"
      ]
     },
     "execution_count": 154,
     "metadata": {},
     "output_type": "execute_result"
    }
   ],
   "source": [
    "detectDogBreedOrHuman('myDogImages/labrador.jpg')"
   ]
  },
  {
   "cell_type": "code",
   "execution_count": 155,
   "metadata": {},
   "outputs": [
    {
     "data": {
      "text/plain": [
       "'Hello Someone. You look like a ....  Lowchen'"
      ]
     },
     "execution_count": 155,
     "metadata": {},
     "output_type": "execute_result"
    }
   ],
   "source": [
    "detectDogBreedOrHuman('myDogImages/brad_pitt.jpg')"
   ]
  },
  {
   "cell_type": "code",
   "execution_count": 156,
   "metadata": {},
   "outputs": [
    {
     "data": {
      "text/plain": [
       "'Hello Someone. You look like a ....  Poodle'"
      ]
     },
     "execution_count": 156,
     "metadata": {},
     "output_type": "execute_result"
    }
   ],
   "source": [
    "detectDogBreedOrHuman('myDogImages/johny_deep.jpg')"
   ]
  },
  {
   "cell_type": "code",
   "execution_count": null,
   "metadata": {},
   "outputs": [],
   "source": []
  }
 ],
 "metadata": {
  "anaconda-cloud": {},
  "kernelspec": {
   "display_name": "Python 3",
   "language": "python",
   "name": "python3"
  },
  "language_info": {
   "codemirror_mode": {
    "name": "ipython",
    "version": 3
   },
   "file_extension": ".py",
   "mimetype": "text/x-python",
   "name": "python",
   "nbconvert_exporter": "python",
   "pygments_lexer": "ipython3",
   "version": "3.5.2"
  }
 },
 "nbformat": 4,
 "nbformat_minor": 1
}
